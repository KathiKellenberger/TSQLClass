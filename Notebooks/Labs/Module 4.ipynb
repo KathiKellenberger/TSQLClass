{
    "metadata": {
        "kernelspec": {
            "name": "SQL",
            "display_name": "SQL",
            "language": "sql"
        },
        "language_info": {
            "name": "sql",
            "version": ""
        }
    },
    "nbformat_minor": 2,
    "nbformat": 4,
    "cells": [
        {
            "cell_type": "markdown",
            "source": [
                "# Module 4: Expressions and functions"
            ],
            "metadata": {
                "azdata_cell_guid": "dfc1b729-24c4-40b6-9999-19e2a82f10d4"
            },
            "attachments": {}
        },
        {
            "cell_type": "markdown",
            "source": [
                "## Lab 1\n",
                "\n",
                "### Expressions \n",
                "\n",
                "\\--Concatenate strings \n",
                "\n",
                "SELECT column1 + column2 AS NewColumn \n",
                "\n",
                "FROM theTable; \n",
                "\n",
                "\\------------------------------------------------------------------------\n",
                "\n",
                "\\--Math \n",
                "\n",
                "SELECT 1 + 2, column1 \\* column2 \n",
                "\n",
                "FROM theTable; \n",
                "\n",
                "\\------------------------------------------------------------------------  \n",
                "\n",
                "\\--Cast an integer to a string \n",
                "\n",
                "SELECT CAST(ID as varchar(10)) + Name AS CustID \n",
                "\n",
                "FROM theTable; \n",
                "\n",
                "SELECT CONVERT(varchar(10), ID) + Name AS CustID \n",
                "\n",
                "FROM theTable; \n",
                "\n",
                "\\------------------------------------------------------------------------  \n",
                "\n",
                "\\--See CAST and Convert article for styles \n",
                "\n",
                "SELECT CONVERT(varchar(10),OrderDate,101) AS FormattedDate \n",
                "\n",
                "FROM theTable; \n",
                "\n",
                "\\------------------------------------------------------------------------  \n",
                "\n",
                "\\--Replace NULL with an empty string \n",
                "\n",
                "SELECT FirstName + ' ' + ISNULL(Middlename, '') + ' ' + LastName \n",
                "\n",
                "FROM Names;"
            ],
            "metadata": {
                "azdata_cell_guid": "436e3212-4f04-4e59-aa73-f0f4b9d5716c"
            },
            "attachments": {}
        },
        {
            "cell_type": "markdown",
            "source": [
                "1. Write a query using the Production.Product table displaying the Product ID, Color, and Name columns. Add a \r\n",
                "column called Description formatted as “Name: Color”. If the color is missing, substitute “N/A”."
            ],
            "metadata": {
                "azdata_cell_guid": "78af2501-73cc-466f-a613-efca67b1dfec",
                "tags": []
            }
        },
        {
            "cell_type": "code",
            "source": [
                ""
            ],
            "metadata": {
                "azdata_cell_guid": "68f5dcf1-83b3-4dac-8fd4-a44d5bd9a58c"
            },
            "outputs": [],
            "execution_count": null
        },
        {
            "cell_type": "markdown",
            "source": [
                "2. Write a query using the Sales.SpecialOffer table. Display MinQty and MaxQty columns and the difference between them along with the SpecialOfferID and Description columns."
            ],
            "metadata": {
                "azdata_cell_guid": "310218cf-61c6-42c2-964f-253d5de53dad"
            },
            "attachments": {}
        },
        {
            "cell_type": "code",
            "source": [
                ""
            ],
            "metadata": {
                "azdata_cell_guid": "cc88ce1d-d035-4495-996f-b7cf7b88d054"
            },
            "outputs": [],
            "execution_count": null
        },
        {
            "cell_type": "markdown",
            "source": [
                "## Lab 2\n",
                "\n",
                "[What are the Microsoft SQL database functions? - SQL Server | Microsoft Docs](https://docs.microsoft.com/en-us/sql/t-sql/functions/functions?view=sql-server-ver15)\n",
                "\n",
                "[String Functions (Transact-SQL) - SQL Server | Microsoft Docs](https://docs.microsoft.com/en-us/sql/t-sql/functions/string-functions-transact-sql?view=sql-server-ver15)\n",
                "\n",
                "String functions \n",
                "\n",
                "• RTRIM, LTRIM -- remove spaces \n",
                "\n",
                "• LEFT, RIGHT -- return a number of characters \n",
                "\n",
                "• LEN, DATALENGTH -- return the length \n",
                "\n",
                "• CHARINDEX -- find a string \n",
                "\n",
                "• SUBSTRING -- return part of a string \n",
                "\n",
                "• REVERSE -- returns the string backwards \n",
                "\n",
                "• UPPER, LOWER -- returns all upper or lower case \n",
                "\n",
                "• REPLACE -- replace part of a string \n",
                "\n",
                "• CONCATENATE – build a string and it takes care of NULL and conversions\n",
                "\n",
                "These functions are best used in the SELECT and ORDER BY clauses"
            ],
            "metadata": {
                "azdata_cell_guid": "0c2c10b9-ba81-400c-bc6c-beeb0b2af1ea"
            },
            "attachments": {}
        },
        {
            "cell_type": "markdown",
            "source": [
                "1. Write a query displaying the BusinessEntityID from the Person.Person table. Also return the first and last names all in uppercase."
            ],
            "metadata": {
                "azdata_cell_guid": "1b3b0381-e398-4013-a6dd-59b1ba2af363"
            },
            "attachments": {}
        },
        {
            "cell_type": "code",
            "source": [
                ""
            ],
            "metadata": {
                "azdata_cell_guid": "3a0c7c01-9a9e-4140-9890-42a2c500c017"
            },
            "outputs": [],
            "execution_count": null
        },
        {
            "cell_type": "markdown",
            "source": [
                "2. Return the first initial and last name from all the names in the Person.Person table."
            ],
            "metadata": {
                "azdata_cell_guid": "d261171e-7a52-4a90-b5b8-553b5ba3b332"
            },
            "attachments": {}
        },
        {
            "cell_type": "code",
            "source": [
                ""
            ],
            "metadata": {
                "azdata_cell_guid": "12b63b80-e874-4057-9dc5-9dab189c2d8d"
            },
            "outputs": [],
            "execution_count": null
        },
        {
            "cell_type": "markdown",
            "source": [
                "3. Return the LastNames from Person.Person in spelled reverse order"
            ],
            "metadata": {
                "azdata_cell_guid": "1df88263-002b-4f45-a83e-8c7f2ce3bfcd"
            },
            "attachments": {}
        },
        {
            "cell_type": "code",
            "source": [
                ""
            ],
            "metadata": {
                "azdata_cell_guid": "a7e5e088-50da-4c73-a898-7b343beb113c"
            },
            "outputs": [],
            "execution_count": null
        },
        {
            "cell_type": "markdown",
            "source": [
                "## Lab 3\n",
                "\n",
                "**Date functions**\n",
                "\n",
                "[Date and Time Data Types and Functions - SQL Server (Transact-SQL) | Microsoft Docs](https://docs.microsoft.com/en-us/sql/t-sql/functions/date-and-time-data-types-and-functions-transact-sql?view=sql-server-ver15) \n",
                "\n",
                "• GETDATE, SYSDATETIME -- returns the server date \n",
                "\n",
                "• DATEADD -- adds a time period to a date \n",
                "\n",
                "• DATEDIFF -- subtract a time period from a date \n",
                "\n",
                "• DATENAME, DATEPART -- returns part of a date \n",
                "\n",
                "• DAY, MONTH, YEAR -- returns part of a date \n",
                "\n",
                "• CONVERT and FORMAT – formatting dates \n",
                "\n",
                "• MM = months, mm = minutes (when using the Format function)"
            ],
            "metadata": {
                "azdata_cell_guid": "2a637d7b-cfda-435f-9155-6524ce080a07"
            },
            "attachments": {}
        },
        {
            "cell_type": "markdown",
            "source": [
                "1. Write a query that calculates the number of days between the date an order was placed and the date that it was shipped using the Sales.SalesOrdeHeader table. Include the SalesOrderID, OrderDate, and ShipDate columns. (Note that the answer is 7 for all the rows)."
            ],
            "metadata": {
                "azdata_cell_guid": "ef01fcef-30ce-4209-8619-769697c08cd6"
            },
            "attachments": {}
        },
        {
            "cell_type": "code",
            "source": [
                ""
            ],
            "metadata": {
                "azdata_cell_guid": "95461e77-eff2-4ade-b557-223e9114273d"
            },
            "outputs": [],
            "execution_count": null
        },
        {
            "cell_type": "markdown",
            "source": [
                "2. Write a query that displays only the date, not the time, for the OrderDate, DueDate, and ShipDate in the Sales.SalesOrderHeader table. Try to use a different function for each column."
            ],
            "metadata": {
                "azdata_cell_guid": "27e8ecc3-5363-4600-afcc-e7fe6347a787"
            },
            "attachments": {}
        },
        {
            "cell_type": "code",
            "source": [
                ""
            ],
            "metadata": {
                "azdata_cell_guid": "66c8a9ad-1795-4992-be7c-0a114e17d8c9"
            },
            "outputs": [],
            "execution_count": null
        },
        {
            "cell_type": "markdown",
            "source": [
                "3\\. Write a query that adds six months to each OrderDate in the Sales.SalesOrderHeader table. Include the SalesOrderID and OrderDate columns."
            ],
            "metadata": {
                "azdata_cell_guid": "609cb713-da35-4ba9-8e0b-6d630d3295d2"
            },
            "attachments": {}
        },
        {
            "cell_type": "code",
            "source": [
                ""
            ],
            "metadata": {
                "azdata_cell_guid": "d65d8519-a872-41e2-b2e9-31e935b754be"
            },
            "outputs": [],
            "execution_count": null
        }
    ]
}