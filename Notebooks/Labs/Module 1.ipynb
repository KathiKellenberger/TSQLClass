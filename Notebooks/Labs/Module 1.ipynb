{
    "metadata": {
        "kernelspec": {
            "name": "SQL",
            "display_name": "SQL",
            "language": "sql"
        },
        "language_info": {
            "name": "sql",
            "version": ""
        }
    },
    "nbformat_minor": 2,
    "nbformat": 4,
    "cells": [
        {
            "cell_type": "markdown",
            "source": [
                "# Data Analysis T-SQL\r\n",
                "## Module 1: Introduction"
            ],
            "metadata": {
                "azdata_cell_guid": "cc57ef9d-b3ca-4b8a-b4cd-25c0848ad945"
            },
            "attachments": {}
        },
        {
            "cell_type": "code",
            "source": [
                "PRINT 'Hello, world!';\r\n",
                "\r\n",
                "SELECT 'Hello, LaunchCode!';\r\n",
                "\r\n",
                "--This is a comment\r\n",
                "/*\r\n",
                "This is a multi-line\r\n",
                "comment\r\n",
                "*/\r\n",
                "\r\n",
                "\r\n",
                ""
            ],
            "metadata": {
                "azdata_cell_guid": "6884bd7e-bded-411c-bfc4-17245f193b54"
            },
            "outputs": [],
            "execution_count": null
        },
        {
            "cell_type": "markdown",
            "source": [
                "Switch to Connections to run\n",
                "\n",
                "\\--Select the statement you want to run\n",
                "\n",
                "  \n",
                "\n",
                "SELECT 'this is statment 1';\n",
                "\n",
                "  \n",
                "\n",
                "PRINT 'this is statement 2';\n",
                "\n",
                "  \n",
                "\n",
                "GO\n",
                "\n",
                "  \n",
                "\n",
                "PRINT 'this is a different batch';"
            ],
            "metadata": {
                "azdata_cell_guid": "504b016d-5874-41e9-9ec6-d9b815066fb7"
            },
            "attachments": {}
        },
        {
            "cell_type": "markdown",
            "source": [
                "Expand databases\n",
                "\n",
                "Right-click on table and select top 1000"
            ],
            "metadata": {
                "azdata_cell_guid": "8ab4703d-3609-447c-b03f-d051e76f05bb"
            },
            "attachments": {}
        }
    ]
}