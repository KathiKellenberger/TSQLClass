{
    "metadata": {
        "kernelspec": {
            "name": "SQL",
            "display_name": "SQL",
            "language": "sql"
        },
        "language_info": {
            "name": "sql",
            "version": ""
        }
    },
    "nbformat_minor": 2,
    "nbformat": 4,
    "cells": [
        {
            "cell_type": "markdown",
            "source": [
                "# Module 2 Labs"
            ],
            "metadata": {
                "azdata_cell_guid": "6f4679f6-9b4c-4995-acb4-66f5cdd83fa2"
            },
            "attachments": {}
        },
        {
            "cell_type": "markdown",
            "source": [
                "## Lab 1\n",
                "**The SELECT statement**\n",
                "\\--Returns all columns and all rows \n",
                "SELECT \\* FROM theTable; \n",
                "\\--Returns just three columns but all the rows \n",
                "SELECT column1, column2, column3 \n",
                "FROM theTable; \n",
                "**TOP** \n",
                "\\--Returns just 100 rows \n",
                "SELECT TOP(100) column1, column2, column3 \n",
                "FROM theTable; \n",
                "\\--Returns just 10% of rows \n",
                "SELECT TOP(10) PERCENT column1, column2, column3 \n",
                "FROM theTable; \n",
                "**DISTINCT**\n",
                "\\--Returns a unique set of rows \n",
                "SELECT DISTINCT colum1, column2, column3 \n",
                " FROM theTable; \n",
                "**Aliases** \n",
                "\\--Using an alias \n",
                "SELECT column1 AS \\[Another Name\\], column2 as TheColumn, column3 as “Another Column” \n",
                "FROM theTable AS A"
            ],
            "metadata": {
                "azdata_cell_guid": "3bdb73c7-1223-4d3f-90d0-39eb7ada4c0c"
            },
            "attachments": {}
        },
        {
            "cell_type": "markdown",
            "source": [
                "Use AdventureWorks2019 for this lab\n",
                "\n",
                "1\\. Write a SELECT statement that queries the Sales.Customer table. Include the CustomerID, StoreID and the AccountNumber."
            ],
            "metadata": {
                "azdata_cell_guid": "87ee922e-1468-42ff-8c21-66e96057e617"
            },
            "attachments": {}
        },
        {
            "cell_type": "code",
            "source": [
                ""
            ],
            "metadata": {
                "azdata_cell_guid": "e7edeee1-baf9-4bcd-860f-e2243eef199a"
            },
            "outputs": [],
            "execution_count": null
        },
        {
            "cell_type": "markdown",
            "source": [
                "2\\. Write a SELECT statement that returns a unique list of FirstName and LastName values from Person.Person."
            ],
            "metadata": {
                "azdata_cell_guid": "0b431e52-3865-41ed-89d0-3192278858d0"
            },
            "attachments": {}
        },
        {
            "cell_type": "code",
            "source": [
                ""
            ],
            "metadata": {
                "azdata_cell_guid": "c698f726-1719-40bb-85c8-d35a3f28dbde"
            },
            "outputs": [],
            "execution_count": null
        },
        {
            "cell_type": "markdown",
            "source": [
                "3. Write a SELECT statement that returns 50% of the Sales.SalesOrderHeader rows. Return SalesOrderID and OrderDate."
            ],
            "metadata": {
                "azdata_cell_guid": "6d0e83e7-d214-4cdf-8ce9-893c69111561"
            },
            "attachments": {}
        },
        {
            "cell_type": "code",
            "source": [
                ""
            ],
            "metadata": {
                "azdata_cell_guid": "cac8b01a-7b55-4154-b9e5-cdbebbaadf07"
            },
            "outputs": [],
            "execution_count": null
        },
        {
            "cell_type": "markdown",
            "source": [
                "## Lab 2\n",
                "**ORDER BY**\n",
                "\\--Use ORDER BY to sort the rows returned \n",
                "SELECT column1, column2 \n",
                "FROM theTable \n",
                "ORDER BY column2; \n",
                "\\--May specify multiple columns \n",
                "SELECT column1, column2 \n",
                "FROM theTable \n",
                "ORDER BY column2, column1; \n",
                "\\--May specify **DESC** for descending order \n",
                "SELECT column1, column2 \n",
                "FROM theTable \n",
                "ORDER BY column2 DESC; \n",
                "SELECT column1, column2 \n",
                "FROM theTable \n",
                "ORDER BY column2 DESC, column1;"
            ],
            "metadata": {
                "azdata_cell_guid": "589d5206-70de-422e-bbac-b082d9f705fe"
            },
            "attachments": {}
        },
        {
            "cell_type": "markdown",
            "source": [
                "Use AdventureWorks2019\n",
                "\n",
                "  \n",
                "\n",
                "1\\. Write a query that returns the BusinessEntityID and name columns from the Person.Person table. Sort the results by Lastname, Firstname, and MiddleName."
            ],
            "metadata": {
                "azdata_cell_guid": "e24b1eda-d364-4e86-b762-d175eac24f5f"
            },
            "attachments": {}
        },
        {
            "cell_type": "code",
            "source": [
                ""
            ],
            "metadata": {
                "azdata_cell_guid": "faec8dde-18d4-4be4-b5f0-1cf73231c4b8"
            },
            "outputs": [],
            "execution_count": null
        },
        {
            "cell_type": "markdown",
            "source": [
                "2. Modify the query written in question 1 so that the data is returned in the opposite order"
            ],
            "metadata": {
                "azdata_cell_guid": "6bc0f4f5-e3e3-4fa2-9526-728d0f46cfe7"
            },
            "attachments": {}
        },
        {
            "cell_type": "code",
            "source": [
                ""
            ],
            "metadata": {
                "azdata_cell_guid": "04680f6c-c182-48e7-aebc-e16137ac2482"
            },
            "outputs": [],
            "execution_count": null
        }
    ]
}