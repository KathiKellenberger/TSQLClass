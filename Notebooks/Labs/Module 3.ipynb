{
    "metadata": {
        "kernelspec": {
            "name": "SQL",
            "display_name": "SQL",
            "language": "sql"
        },
        "language_info": {
            "name": "sql",
            "version": ""
        }
    },
    "nbformat_minor": 2,
    "nbformat": 4,
    "cells": [
        {
            "cell_type": "markdown",
            "source": [
                "# Module 3: The WHERE Clause to filter results"
            ],
            "metadata": {
                "azdata_cell_guid": "da4d0078-bcac-4d79-9b38-d07bc86adc94"
            },
            "attachments": {}
        },
        {
            "cell_type": "markdown",
            "source": [
                "## Lab 1\n",
                "\n",
                "WHERE clause operators \n",
                "\n",
                "• =, \\<\\>, != \n",
                "\n",
                "• \\<, \\>, \\<=, \\>= \n",
                "\n",
                "• BETWEEN \n",
                "\n",
                "• LIKE (with wildcards %,\\_ and more) \n",
                "\n",
                "• IN \n",
                "\n",
                "• AND, OR for multiple expressions \n",
                "\n",
                "• NOT \n",
                "\n",
                "• Parentheses to enforce logic\n",
                "\n",
                "\\-----------------------------------------------------------------------------------\n",
                "\n",
                "\\--Compare a column to a value \n",
                "\n",
                "SELECT column1, column2, column3 \n",
                "\n",
                "FROM theTable \n",
                "\n",
                "WHERE column1 = 1;\n",
                "\n",
                "\\-----------------------------------------------------------------------------------  \n",
                "\n",
                "\\--Use tick marks with dates and strings \n",
                "\n",
                "SELECT column1, column2, column3 \n",
                "\n",
                "FROM theTable \n",
                "\n",
                "WHERE column2 = '2011-06-07' AND column3 = 'test'; \n",
                "\n",
                "\\-----------------------------------------------------------------------------------  \n",
                "\n",
                "\\--**BETWEEN** is inclusive, this will return rows where column1 = 1,2,3,4, or 5\n",
                "\n",
                "SELECT column1, column2, column3 \n",
                "\n",
                "FROM theTable \n",
                "\n",
                "WHERE column1 BETWEEN 1 AND 5; \n",
                "\n",
                "\\-----------------------------------------------------------------------------------  \n",
                "\n",
                "\\--Use **IN** for a list \n",
                "\n",
                "SELECT column1, column2, column3 \n",
                "\n",
                "FROM theTable \n",
                "\n",
                "WHERE column1 IN (1,2,3); \n",
                "\n",
                "\\-----------------------------------------------------------------------------------  \n",
                "\n",
                "\\--**AND** means both expressions must return true. **OR** means at least one expression must return true \n",
                "\n",
                "SELECT column1, column2, column3 \n",
                "\n",
                "FROM theTable \n",
                "\n",
                "WHERE column1 = 1 OR column2 \\< '2011-06-07'\n",
                "\n",
                "\\-----------------------------------------------------------------------------------  \n",
                "\n",
                "\\--Use parenthesis to enforce logic \n",
                "\n",
                "SELECT column1, column2, column3 \n",
                "\n",
                "FROM theTable \n",
                "\n",
                "WHERE (column1 = 1 OR column2 \\>= '2011-06-07') AND column3 = 'test'; \n",
                "\n",
                "\\-----------------------------------------------------------------------------------  \n",
                "\n",
                "\\--**NOT** negates the expression \n",
                "\n",
                "SELECT column1, column2, column3 \n",
                "\n",
                "FROM theTable \n",
                "\n",
                "WHERE NOT (column1 = 1 OR column2 = '2011-06-07') AND column3 = 'test';\n",
                "\n",
                "\\-----------------------------------------------------------------------------------  \n",
                "\n",
                "\\--**ORDER BY** is after **WHERE**\n",
                "\n",
                "SELECT column1, column2, column3\n",
                "\n",
                "FROM theTable\n",
                "\n",
                "WHERE column1  =1\n",
                "\n",
                "ORDER BY column2;"
            ],
            "metadata": {
                "azdata_cell_guid": "faf1efa6-167c-4db9-965f-48d89befa40e"
            },
            "attachments": {}
        },
        {
            "cell_type": "markdown",
            "source": [
                "Use AdventureWorks 2019\n",
                "\n",
                "  \n",
                "\n",
                "1. Write a query using a WHERE clause that displays all the employees listed in the HumanResources.Employee table who have the job title “Research and Development Engineer”. Display the BusinessEntityID, LoginID, and the JobTitle for each one. Remember to use tick marks around values in the WHERE clause."
            ],
            "metadata": {
                "azdata_cell_guid": "2d30ac98-8c4e-4fdf-96ba-c3e2560cf661"
            },
            "attachments": {}
        },
        {
            "cell_type": "code",
            "source": [
                ""
            ],
            "metadata": {
                "azdata_cell_guid": "07f42432-fc62-4fcd-947f-788bbeb46f51"
            },
            "outputs": [],
            "execution_count": null
        },
        {
            "cell_type": "markdown",
            "source": [
                "2\\. Write a query displaying all the columns of the Production.ProductCostHistory table from the rows in which the standard cost is between the values of $10 and $13."
            ],
            "metadata": {
                "azdata_cell_guid": "974b52fe-d0e7-4bc4-b1e3-c4f1de1f383f"
            },
            "attachments": {}
        },
        {
            "cell_type": "code",
            "source": [
                ""
            ],
            "metadata": {
                "azdata_cell_guid": "4da57bb1-395b-4a89-9a7b-a6d7d04b25a7"
            },
            "outputs": [],
            "execution_count": null
        },
        {
            "cell_type": "markdown",
            "source": [
                "3\\. Write a query finding the name Mary Gibson from the Person.Person table. Return the BusinessEntityID, FirstName, and LastName columns."
            ],
            "metadata": {
                "azdata_cell_guid": "cbf7e41e-f8d7-4b85-a01c-321729c19d4d"
            },
            "attachments": {}
        },
        {
            "cell_type": "code",
            "source": [
                ""
            ],
            "metadata": {
                "azdata_cell_guid": "5296d0b8-65b5-431a-b3d0-7f9a23c3d032"
            },
            "outputs": [],
            "execution_count": null
        },
        {
            "cell_type": "markdown",
            "source": [
                "4\\. Change the query in question 3 so that the results are returned in order of the LastName."
            ],
            "metadata": {
                "azdata_cell_guid": "e1327ad2-0b17-4fb9-9640-4fcf3c9b7ebc"
            },
            "attachments": {}
        },
        {
            "cell_type": "code",
            "source": [
                ""
            ],
            "metadata": {
                "azdata_cell_guid": "a5e32da2-f025-4b08-b922-2e7e87279f17"
            },
            "outputs": [],
            "execution_count": null
        },
        {
            "cell_type": "markdown",
            "source": [
                "## Lab 2\n",
                "\n",
                "Notes about **NULL** \n",
                "\n",
                "**NULL** means **UNKNOWN**, not FALSE, not an empty string, not zero. \n",
                "\n",
                "Nothing can be compared to **NULL** and most expressions containing **NULL** return **NULL**. \n",
                "\n",
                "\\-----------------------------------------------------------------------------------\n",
                "\n",
                "\\--Use **ISNULL** or **COALESCE** to replace NULL \n",
                "\n",
                "SELECT ISNULL(column1, 'N/A') AS Column1 \n",
                "\n",
                "FROM theTable; \n",
                "\n",
                "SELECT COALESCE(column1, column2, column3) AS TheAnswer \n",
                "\n",
                "FROM theTable;\n",
                "\n",
                "\\--Use ISNULL  \n",
                "\n",
                "SELECT ISNULL(column1) + ISNULL(column2) AS NewColumn\n",
                "\n",
                "FROM theTable;\n",
                "\n",
                "\\-----------------------------------------------------------------------------------\n",
                "\n",
                "\\--Use **IS NULL** or **IS NOT NULL** to compare NULL \n",
                "\n",
                "SELECT column1, column2, column3 \n",
                "\n",
                "FROM theTable WHERE column1 IS NULL; \n",
                "\n",
                "SELECT column1, column2, column3 \n",
                "\n",
                "FROM theTable \n",
                "\n",
                "WHERE column1 IS NOT NULL;\n",
                "\n",
                "\\-----------------------------------------------------------------------------------\n",
                "\n",
                "\\--Use **ISNULL** or **COALESCE** in the WHERE clause if there are NULLs in the column\n",
                "\n",
                "SELECT column1, column2, column3\n",
                "\n",
                "FROM the table\n",
                "\n",
                "WHERE ISNULL(column1,'') = 'Blue';\n",
                "\n",
                "SELECT column1, column2, column3\n",
                "\n",
                "FROM the table\n",
                "\n",
                "WHERE COALESCE(column1,'') = 'Blue';"
            ],
            "metadata": {
                "azdata_cell_guid": "311ba6fd-fb1a-4e2b-a93b-2f2d8264b676"
            },
            "attachments": {}
        },
        {
            "cell_type": "markdown",
            "source": [
                "1\\. Return the SalesOrderID, OrderDate, and CurrencyRateID from the Sales.SalesOrderHeader table where there is no currency rate ID."
            ],
            "metadata": {
                "azdata_cell_guid": "a1020651-102e-42eb-866b-e1f8a8979a44"
            },
            "attachments": {}
        },
        {
            "cell_type": "code",
            "source": [
                ""
            ],
            "metadata": {
                "azdata_cell_guid": "d255a83d-71a1-4fee-bef7-9a7d3496fe6d"
            },
            "outputs": [],
            "execution_count": null
        },
        {
            "cell_type": "markdown",
            "source": [
                "2\\. Rewrite the query in Question 1 so that it returns rows with a currency rate of 1536 or no currency rate."
            ],
            "metadata": {
                "azdata_cell_guid": "f629a2b3-537d-40a1-9093-67648de215b8"
            },
            "attachments": {}
        },
        {
            "cell_type": "code",
            "source": [
                ""
            ],
            "metadata": {
                "azdata_cell_guid": "56bb3f9c-edf2-4e01-b34c-a6e037b25f86"
            },
            "outputs": [],
            "execution_count": null
        },
        {
            "cell_type": "markdown",
            "source": [
                "3. Write a query using the Person.Person table. Return BusinessEntityID, FirstName, MiddleName, LastName and a FullName column that includes all three parts of the name."
            ],
            "metadata": {
                "azdata_cell_guid": "d90eaaa8-fd04-43b2-bf19-6d2ee344f666"
            },
            "attachments": {}
        },
        {
            "cell_type": "code",
            "source": [
                ""
            ],
            "metadata": {
                "azdata_cell_guid": "1f9432af-e1d2-4385-aeec-8b0eb5e72954"
            },
            "outputs": [],
            "execution_count": null
        }
    ]
}