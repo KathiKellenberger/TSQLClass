{
    "metadata": {
        "kernelspec": {
            "name": "SQL",
            "display_name": "SQL",
            "language": "sql"
        },
        "language_info": {
            "name": "sql",
            "version": ""
        }
    },
    "nbformat_minor": 2,
    "nbformat": 4,
    "cells": [
        {
            "cell_type": "markdown",
            "source": [
                "# Module 5: Joining tables"
            ],
            "metadata": {
                "azdata_cell_guid": "a543071a-af3a-418e-9501-ee037f437e86"
            },
            "attachments": {}
        },
        {
            "cell_type": "markdown",
            "source": [
                "## Lab 1\n",
                "\n",
                "**Inner Join** \n",
                "\n",
                "Returns the columns from two tables where there is a match on a key. This can be one or more columns. \n",
                "\n",
                " --These tables join on the same column name \n",
                "\n",
                "SELECT SOH.SalesOrderID, SOH.OrderDate, SOD.ProductID, SOD.OrderQty, SOD.LineTotal \n",
                "\n",
                "FROM Sales.SalesOrderHeader AS SOH \n",
                "\n",
                "INNER JOIN Sales.SalesOrderDetail AS SOD ON SOD.SalesOrderID = SOH.SalesOrderID; \n",
                "\n",
                "\\-------------------------------------------------------------------------------------------------------------------\n",
                "\n",
                "\\--These table join on a different column name \n",
                "\n",
                "SELECT Cust.CustomerID, Cust.StoreID, Pers.FirstName, Pers.LastName \n",
                "\n",
                "FROM Sales.Customer AS Cust \n",
                "\n",
                "INNER JOIN Person.Person AS Pers ON Cust.PersonID = Pers.BusinessEntityID; \n",
                "\n",
                "\\-------------------------------------------------------------------------------------------------------------------  \n",
                "\n",
                "\\--You can continue to bring in tables \n",
                "\n",
                "SELECT SOH.SalesOrderID, SOH.OrderDate, SOD.ProductID, Prod.Name, SOD.OrderQty, SOD.LineTotal \n",
                "\n",
                "FROM Sales.SalesOrderHeader AS SOH \n",
                "\n",
                "INNER JOIN Sales.SalesOrderDetail AS SOD ON SOD.SalesOrderID = SOH.SalesOrderID \n",
                "\n",
                "INNER JOIN Production.Product AS Prod ON Prod.ProductID = SOD.ProductID;"
            ],
            "metadata": {
                "azdata_cell_guid": "c8114f3e-70fd-4e34-99ef-661ddb489043"
            },
            "attachments": {}
        },
        {
            "cell_type": "markdown",
            "source": [
                "1. The HumanResources.Employee table does not contain the employee name. Join that table to the Person.Person table on the BusinessEntityID column. Display the BusinessEntityID, first and last names, job title, and birth date."
            ],
            "metadata": {
                "azdata_cell_guid": "fdaa7d42-9384-4116-bcfa-10c0a8acc61d"
            },
            "attachments": {}
        },
        {
            "cell_type": "code",
            "source": [
                ""
            ],
            "metadata": {
                "azdata_cell_guid": "aa48f4e2-1e42-4457-ad82-1523879fdaa9"
            },
            "outputs": [],
            "execution_count": null
        },
        {
            "cell_type": "markdown",
            "source": [
                "2. Join the Production.Product table to the Production.ProductSubCategory table. Then join to the Production.ProductCategory. Return the ProductID. Return the Name of the product, subcategory and category. Be sure to use aliases. You’ll use ProductSubCategoryID and ProductCategoryID as keys in this example."
            ],
            "metadata": {
                "azdata_cell_guid": "1ccc152a-2273-41d6-aa35-06806c584f7d"
            },
            "attachments": {}
        },
        {
            "cell_type": "code",
            "source": [
                ""
            ],
            "metadata": {
                "azdata_cell_guid": "521bb4d9-40cb-484b-82b4-75f63de5bf64"
            },
            "outputs": [],
            "execution_count": null
        },
        {
            "cell_type": "markdown",
            "source": [
                "## Lab 2\n",
                "\n",
                "**LEFT Outer Join** Returns the rows from the first table (LEFT) and include columns from the second table (RIGHT) even if there is not a match. The table on the right will return NULL for rows that don’t match. \n",
                "\n",
                "\\--return customers even if they don't have sales \n",
                "\n",
                "\\--this is filtered so you can easily see the NULL results \n",
                "\n",
                "SELECT c.CustomerID, s.SalesOrderID, s.OrderDate \n",
                "\n",
                "FROM Sales.Customer AS c LEFT OUTER JOIN Sales.SalesOrderHeader AS s ON c.CustomerID = s.CustomerID \n",
                "\n",
                "WHERE c.CustomerID IN (11028,11029,1,2,3,4); \n",
                "\n",
                "\\------------------------------------------------------------------------------------------------------------------------\n",
                "\n",
                "**Add more tables to LEFT join** \n",
                "\n",
                "Continue LEFT once you start down that path \n",
                "\n",
                "SELECT C.CustomerID, SOH.SalesOrderID, SOD.SalesOrderDetailID, SOD.ProductID, T.Name \n",
                "\n",
                "FROM Sales.Customer AS C LEFT OUTER JOIN Sales.SalesOrderHeader AS SOH ON C.CustomerID = SOH.CustomerID \n",
                "\n",
                "LEFT OUTER JOIN Sales.SalesOrderDetail AS SOD ON SOH.SalesOrderID = SOD.SalesOrderID \n",
                "\n",
                "LEFT OUTER JOIN Sales.SalesTerritory AS T ON C.TerritoryID = T.TerritoryID \n",
                "\n",
                "WHERE C.CustomerID IN (11028,11029,1,2,3,4);\n",
                "\n",
                "\\---------------------------------------------------------------------------------------------\n",
                "\n",
                "**RIGHT Outer Join** (reference, not needed for lab) Returns rows from the RIGHT table and include columns from the LEFT table even if there is not a match. I recommend LEFT JOIN. \n",
                "\n",
                "SELECT c.CustomerID, s.SalesOrderID, s.OrderDate \n",
                "\n",
                "FROM Sales.SalesOrderHeader AS s \n",
                "\n",
                "RIGHT OUTER JOIN Sales.Customer AS c ON c.CustomerID = s.CustomerID \n",
                "\n",
                "WHERE c.CustomerID IN (11028,11029,1,2,3,4); \n",
                "\n",
                "\\------------------------------------------------------------------------------------------------\n",
                "\n",
                "**FULL Outer Join** (reference, not needed for lab) This is rarely used. Return all the rows from both sides even if there is not a match. There are no tables in AdventureWorks that work, so run this code to create a table. \n",
                "\n",
                "DROP TABLE IF EXISTS #ProductColor; \n",
                "\n",
                "CREATE table #ProductColor (Color nvarchar(15) NOT NULL PRIMARY KEY); GO \n",
                "\n",
                "\\--Insert most of the existing colors \n",
                "\n",
                "INSERT INTO #ProductColor \n",
                "\n",
                "SELECT DISTINCT Color \n",
                "\n",
                "FROM Production.Product \n",
                "\n",
                "WHERE Color IS NOT NULL and Color \\<\\> 'Silver'; \n",
                "\n",
                "\\--Insert some additional colors \n",
                "\n",
                "INSERT INTO Production.ProductColor VALUES ('Green'),('Orange'),('Purple'); \n",
                "\n",
                "\\--Here is the query: \n",
                "\n",
                "SELECT c.Color AS \"Color from list\", p.Color, p.ProductID \n",
                "\n",
                "FROM Production.Product AS p \n",
                "\n",
                "FULL OUTER JOIN #ProductColor AS c ON p.Color = c.Color ORDER BY p.ProductID;"
            ],
            "metadata": {
                "azdata_cell_guid": "8843b3a6-dc6a-4798-83ce-ce28e91c8b7f"
            },
            "attachments": {}
        },
        {
            "cell_type": "markdown",
            "source": [
                "1\\. Write a query that displays all the products along with the SalesOrderID even if an order has never been placed for that product. Join to the Sales.SalesOrderDetail table using the ProductID column. Include the ProductID, name, SalesOrderID, and OrderQty."
            ],
            "metadata": {
                "azdata_cell_guid": "999ae552-7ebe-4384-a925-405574be4de4"
            },
            "attachments": {}
        },
        {
            "cell_type": "code",
            "source": [
                ""
            ],
            "metadata": {
                "azdata_cell_guid": "0979389c-ff79-448a-9944-1bc0b2c63597"
            },
            "outputs": [],
            "execution_count": null
        },
        {
            "cell_type": "markdown",
            "source": [
                "2. Write a query that returns all the rows from the Sales.SalesOrderHeader table joined to the Sales.SalesPerson table (SalesPersonID to BusinessEntityID) even if no orders match. Include the SalesPersonID, SalesYTD and SalesOrderID columns in the results."
            ],
            "metadata": {
                "azdata_cell_guid": "7fdd25f3-efbc-4aca-bb0a-89ca4724686b"
            },
            "attachments": {}
        },
        {
            "cell_type": "code",
            "source": [
                ""
            ],
            "metadata": {
                "azdata_cell_guid": "3c002c24-3726-4653-bbae-b31ca4eb0c87"
            },
            "outputs": [],
            "execution_count": null
        },
        {
            "cell_type": "markdown",
            "source": [
                "## Lab 3\n",
                "\n",
                "**LEFT outer join with NULL filter on RIGHT table** \n",
                "\n",
                "\\--Find rows in Customer that do not exist in SalesOrderHeader \n",
                "\n",
                "SELECT c.CustomerID, s.SalesOrderID, s.OrderDate \n",
                "\n",
                "FROM Sales.Customer AS c \n",
                "\n",
                "LEFT OUTER JOIN Sales.SalesOrderHeader AS s ON c.CustomerID = s.CustomerID \n",
                "\n",
                "WHERE s.SalesOrderID IS NULL;"
            ],
            "metadata": {
                "azdata_cell_guid": "8f217d41-fae0-4b4f-8aa7-bf894949ed21"
            },
            "attachments": {}
        },
        {
            "cell_type": "markdown",
            "source": [
                "1. Change the query written in Lab 2 Question 1 so that only products that have not been ordered show up in the results of the query."
            ],
            "metadata": {
                "azdata_cell_guid": "0eebcc0e-ce39-414a-aa9e-c4087dc4f02d"
            },
            "attachments": {}
        },
        {
            "cell_type": "code",
            "source": [
                ""
            ],
            "metadata": {
                "azdata_cell_guid": "793af738-fa1f-41c9-9a1a-5809234dcf16"
            },
            "outputs": [],
            "execution_count": null
        },
        {
            "cell_type": "markdown",
            "source": [
                "2\\. Change the query written in Lab 2 Question 1 so that only products that have not been ordered show up in the results of the query."
            ],
            "metadata": {
                "azdata_cell_guid": "b98d0ab7-0a66-46f3-bad7-f6f2dc70b227"
            },
            "attachments": {}
        },
        {
            "cell_type": "code",
            "source": [
                ""
            ],
            "metadata": {
                "azdata_cell_guid": "3acd532e-8a8e-4820-b2c3-42f3f630cacc"
            },
            "outputs": [],
            "execution_count": null
        }
    ]
}